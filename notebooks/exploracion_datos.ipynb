{
 "cells": [
  {
   "cell_type": "code",
   "execution_count": null,
   "id": "51981308",
   "metadata": {
    "vscode": {
     "languageId": "plaintext"
    }
   },
   "outputs": [],
   "source": [
    "import matplotlib.pyplot as plt\n",
    "import pandas as pd\n",
    "\n",
    "# Cargar el mapa\n",
    "grid = pd.read_csv('data/mapas/mapa_inicial.csv', header=None).values\n",
    "\n",
    "# Visualizar\n",
    "plt.imshow(grid, cmap='gray')\n",
    "plt.title('Mapa de Kursk - Cuadrícula')\n",
    "plt.show()"
   ]
  }
 ],
 "metadata": {
  "language_info": {
   "name": "python"
  }
 },
 "nbformat": 4,
 "nbformat_minor": 5
}
